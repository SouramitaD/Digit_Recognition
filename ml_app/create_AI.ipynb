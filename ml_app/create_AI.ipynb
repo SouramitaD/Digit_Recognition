{
 "cells": [
  {
   "cell_type": "code",
   "execution_count": 1,
   "id": "880798c1-5783-4a71-be25-71d9c999d969",
   "metadata": {
    "execution": {
     "iopub.execute_input": "2023-02-04T07:50:43.792737Z",
     "iopub.status.busy": "2023-02-04T07:50:43.792363Z",
     "iopub.status.idle": "2023-02-04T07:50:47.259415Z",
     "shell.execute_reply": "2023-02-04T07:50:47.258507Z",
     "shell.execute_reply.started": "2023-02-04T07:50:43.792708Z"
    }
   },
   "outputs": [
    {
     "name": "stderr",
     "output_type": "stream",
     "text": [
      "2023-02-04 07:50:43.800692: I tensorflow/core/platform/cpu_feature_guard.cc:193] This TensorFlow binary is optimized with oneAPI Deep Neural Network Library (oneDNN) to use the following CPU instructions in performance-critical operations:  AVX2 AVX512F FMA\n",
      "To enable them in other operations, rebuild TensorFlow with the appropriate compiler flags.\n"
     ]
    }
   ],
   "source": [
    "import tensorflow as tf\n",
    "import numpy as np\n",
    "import matplotlib.pyplot as plt"
   ]
  },
  {
   "cell_type": "code",
   "execution_count": 2,
   "id": "7d54ca89-a9a6-45d8-9963-e1d8ae7c3571",
   "metadata": {
    "execution": {
     "iopub.execute_input": "2023-02-04T07:51:18.343006Z",
     "iopub.status.busy": "2023-02-04T07:51:18.342457Z",
     "iopub.status.idle": "2023-02-04T07:51:19.066211Z",
     "shell.execute_reply": "2023-02-04T07:51:19.065364Z",
     "shell.execute_reply.started": "2023-02-04T07:51:18.342977Z"
    }
   },
   "outputs": [
    {
     "name": "stdout",
     "output_type": "stream",
     "text": [
      "Downloading data from https://storage.googleapis.com/tensorflow/tf-keras-datasets/mnist.npz\n",
      "11490434/11490434 [==============================] - 0s 0us/step\n"
     ]
    }
   ],
   "source": [
    "(x_train,y_train),(x_test,y_test)=tf.keras.datasets.mnist.load_data()"
   ]
  },
  {
   "cell_type": "code",
   "execution_count": 5,
   "id": "31f25284-90a7-4a68-95a4-ac31c8572ca9",
   "metadata": {
    "execution": {
     "iopub.execute_input": "2023-02-04T07:52:31.033064Z",
     "iopub.status.busy": "2023-02-04T07:52:31.032651Z",
     "iopub.status.idle": "2023-02-04T07:52:31.148791Z",
     "shell.execute_reply": "2023-02-04T07:52:31.148099Z",
     "shell.execute_reply.started": "2023-02-04T07:52:31.033035Z"
    },
    "tags": []
   },
   "outputs": [
    {
     "data": {
      "text/plain": [
       "<matplotlib.image.AxesImage at 0x7fbd34931a60>"
      ]
     },
     "execution_count": 5,
     "metadata": {},
     "output_type": "execute_result"
    },
    {
     "data": {
      "image/png": "[encoded data removed]",
      "text/plain": [
       "<Figure size 640x480 with 1 Axes>"
      ]
     },
     "metadata": {},
     "output_type": "display_data"
    }
   ],
   "source": [
    "plt.imshow(x_train[1])"
   ]
  },
  {
   "cell_type": "code",
   "execution_count": 10,
   "id": "ab99ec03-2011-4bc7-8129-2335d3f318dc",
   "metadata": {
    "execution": {
     "iopub.execute_input": "2023-02-04T07:57:34.673825Z",
     "iopub.status.busy": "2023-02-04T07:57:34.673401Z",
     "iopub.status.idle": "2023-02-04T07:57:34.735644Z",
     "shell.execute_reply": "2023-02-04T07:57:34.734878Z",
     "shell.execute_reply.started": "2023-02-04T07:57:34.673785Z"
    },
    "tags": []
   },
   "outputs": [],
   "source": [
    "model=tf.keras.Sequential([\n",
    "    tf.keras.layers.Rescaling(1/255,input_shape=(28,28)),\n",
    "    tf.keras.layers.Flatten(),\n",
    "    tf.keras.layers.Dense(256,activation='relu'),\n",
    "    tf.keras.layers.Dense(256,activation='relu'),\n",
    "    tf.keras.layers.Dense(10,activation='softmax')\n",
    "])\n",
    "model.compile(loss='SparseCategoricalCrossentropy',optimizer='adam',metrics=['accuracy'])"
   ]
  },
  {
   "cell_type": "code",
   "execution_count": 12,
   "id": "655f019c-41e4-4e7b-b152-48503f136c14",
   "metadata": {
    "execution": {
     "iopub.execute_input": "2023-02-04T07:59:06.092351Z",
     "iopub.status.busy": "2023-02-04T07:59:06.091981Z",
     "iopub.status.idle": "2023-02-04T07:59:06.113439Z",
     "shell.execute_reply": "2023-02-04T07:59:06.112697Z",
     "shell.execute_reply.started": "2023-02-04T07:59:06.092324Z"
    },
    "tags": []
   },
   "outputs": [
    {
     "name": "stdout",
     "output_type": "stream",
     "text": [
      "Model: \"sequential_2\"\n",
      "_________________________________________________________________\n",
      " Layer (type)                Output Shape              Param #   \n",
      "=================================================================\n",
      " rescaling_2 (Rescaling)     (None, 28, 28)            0         \n",
      "                                                                 \n",
      " flatten_2 (Flatten)         (None, 784)               0         \n",
      "                                                                 \n",
      " dense_6 (Dense)             (None, 256)               200960    \n",
      "                                                                 \n",
      " dense_7 (Dense)             (None, 256)               65792     \n",
      "                                                                 \n",
      " dense_8 (Dense)             (None, 10)                2570      \n",
      "                                                                 \n",
      "=================================================================\n",
      "Total params: 269,322\n",
      "Trainable params: 269,322\n",
      "Non-trainable params: 0\n",
      "_________________________________________________________________\n"
     ]
    }
   ],
   "source": [
    "model.summary()"
   ]
  },
  {
   "cell_type": "code",
   "execution_count": 14,
   "id": "ab132fff-872d-4186-a1c2-ea65dd436847",
   "metadata": {
    "execution": {
     "iopub.execute_input": "2023-02-04T08:04:45.822652Z",
     "iopub.status.busy": "2023-02-04T08:04:45.822164Z",
     "iopub.status.idle": "2023-02-04T08:06:02.607897Z",
     "shell.execute_reply": "2023-02-04T08:06:02.607213Z",
     "shell.execute_reply.started": "2023-02-04T08:04:45.822613Z"
    },
    "tags": []
   },
   "outputs": [
    {
     "name": "stdout",
     "output_type": "stream",
     "text": [
      "Epoch 1/100\n",
      "1875/1875 [==============================] - 8s 4ms/step - loss: 0.0114 - accuracy: 0.9968 - val_loss: 0.1314 - val_accuracy: 0.9781\n",
      "Epoch 2/100\n",
      "1875/1875 [==============================] - 9s 5ms/step - loss: 0.0105 - accuracy: 0.9970 - val_loss: 0.1296 - val_accuracy: 0.9794\n",
      "Epoch 3/100\n",
      "1875/1875 [==============================] - 9s 5ms/step - loss: 0.0095 - accuracy: 0.9975 - val_loss: 0.1249 - val_accuracy: 0.9794\n",
      "Epoch 4/100\n",
      "1875/1875 [==============================] - 9s 5ms/step - loss: 0.0082 - accuracy: 0.9976 - val_loss: 0.1151 - val_accuracy: 0.9827\n",
      "Epoch 5/100\n",
      "1875/1875 [==============================] - 8s 4ms/step - loss: 0.0133 - accuracy: 0.9966 - val_loss: 0.1220 - val_accuracy: 0.9821\n",
      "Epoch 6/100\n",
      "1875/1875 [==============================] - 8s 5ms/step - loss: 0.0071 - accuracy: 0.9978 - val_loss: 0.1460 - val_accuracy: 0.9808\n",
      "Epoch 7/100\n",
      "1875/1875 [==============================] - 8s 4ms/step - loss: 0.0104 - accuracy: 0.9972 - val_loss: 0.1458 - val_accuracy: 0.9826\n",
      "Epoch 8/100\n",
      "1875/1875 [==============================] - 8s 4ms/step - loss: 0.0098 - accuracy: 0.9973 - val_loss: 0.1343 - val_accuracy: 0.9812\n",
      "Epoch 9/100\n",
      "1875/1875 [==============================] - 9s 5ms/step - loss: 0.0094 - accuracy: 0.9973 - val_loss: 0.1477 - val_accuracy: 0.9801\n"
     ]
    },
    {
     "data": {
      "text/plain": [
       "<keras.callbacks.History at 0x7fbd14c8a640>"
      ]
     },
     "execution_count": 14,
     "metadata": {},
     "output_type": "execute_result"
    }
   ],
   "source": [
    "cbck=tf.keras.callbacks.EarlyStopping(monitor='val_accuracy',mode='max',patience=5,restore_best_weights=True)\n",
    "model.fit(x_train,y_train,epochs=100,validation_data=(x_test,y_test),callbacks=[cbck])"
   ]
  },
  {
   "cell_type": "code",
   "execution_count": 15,
   "id": "a8fb0d0d-40b7-4cfa-893d-184f5d9875a5",
   "metadata": {
    "execution": {
     "iopub.execute_input": "2023-02-04T08:07:06.512502Z",
     "iopub.status.busy": "2023-02-04T08:07:06.512106Z",
     "iopub.status.idle": "2023-02-04T08:07:08.522914Z",
     "shell.execute_reply": "2023-02-04T08:07:08.522229Z",
     "shell.execute_reply.started": "2023-02-04T08:07:06.512458Z"
    },
    "tags": []
   },
   "outputs": [
    {
     "name": "stderr",
     "output_type": "stream",
     "text": [
      "WARNING:absl:Found untraced functions such as _update_step_xla while saving (showing 1 of 1). These functions will not be directly callable after loading.\n"
     ]
    },
    {
     "name": "stdout",
     "output_type": "stream",
     "text": [
      "INFO:tensorflow:Assets written to: digit_AI/assets\n"
     ]
    },
    {
     "name": "stderr",
     "output_type": "stream",
     "text": [
      "INFO:tensorflow:Assets written to: digit_AI/assets\n"
     ]
    }
   ],
   "source": [
    "model.save('digit_AI')"
   ]
  },
  {
   "cell_type": "code",
   "execution_count": 1,
   "id": "25f4a821-c5ec-4b82-a5a6-fa6890dfda8f",
   "metadata": {
    "execution": {
     "iopub.execute_input": "2023-02-05T09:58:46.385969Z",
     "iopub.status.busy": "2023-02-05T09:58:46.385565Z",
     "iopub.status.idle": "2023-02-05T09:58:46.532007Z",
     "shell.execute_reply": "2023-02-05T09:58:46.530825Z",
     "shell.execute_reply.started": "2023-02-05T09:58:46.385939Z"
    }
   },
   "outputs": [
    {
     "ename": "NameError",
     "evalue": "name 'tf' is not defined",
     "output_type": "error",
     "traceback": [
      "\u001b[0;31m---------------------------------------------------------------------------\u001b[0m",
      "\u001b[0;31mNameError\u001b[0m                                 Traceback (most recent call last)",
      "Cell \u001b[0;32mIn[1], line 1\u001b[0m\n\u001b[0;32m----> 1\u001b[0m (x_train,y_train),(x_test,y_test)\u001b[38;5;241m=\u001b[39m\u001b[43mtf\u001b[49m\u001b[38;5;241m.\u001b[39mkeras\u001b[38;5;241m.\u001b[39mdatasets\u001b[38;5;241m.\u001b[39mmnist\u001b[38;5;241m.\u001b[39mload_data()\n",
      "\u001b[0;31mNameError\u001b[0m: name 'tf' is not defined"
     ]
    }
   ],
   "source": [
    "(x_train,y_train),(x_test,y_test)=tf.keras.datasets.mnist.load_data()"
   ]
  },
  {
   "cell_type": "code",
   "execution_count": null,
   "id": "4248d920-04d8-485a-a9ba-c1ebd06343de",
   "metadata": {},
   "outputs": [],
   "source": []
  }
 ],
 "metadata": {
  "kernelspec": {
   "display_name": "saturn (Python 3)",
   "language": "python",
   "name": "python3"
  },
  "language_info": {
   "codemirror_mode": {
    "name": "ipython",
    "version": 3
   },
   "file_extension": ".py",
   "mimetype": "text/x-python",
   "name": "python",
   "nbconvert_exporter": "python",
   "pygments_lexer": "ipython3",
   "version": "3.9.15"
  }
 },
 "nbformat": 4,
 "nbformat_minor": 5
}
